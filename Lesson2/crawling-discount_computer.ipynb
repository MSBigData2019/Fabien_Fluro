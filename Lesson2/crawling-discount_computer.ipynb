{
 "cells": [
  {
   "cell_type": "code",
   "execution_count": 1,
   "metadata": {},
   "outputs": [],
   "source": [
    "import requests\n",
    "import unittest\n",
    "from bs4 import BeautifulSoup"
   ]
  },
  {
   "cell_type": "code",
   "execution_count": 34,
   "metadata": {},
   "outputs": [
    {
     "name": "stdout",
     "output_type": "stream",
     "text": [
      "[Acer] number of computer discount rate : 53%\n",
      "[Dell] number of computer discount rate : 43%\n"
     ]
    }
   ],
   "source": [
    "page_acer_url = 'https://www.cdiscount.com/search/10/ordinateur+acer.html'\n",
    "page_dell_url = 'https://www.cdiscount.com/search/10/ordinateur+dell.html'\n",
    "\n",
    "def _handle_request_result_and_build_soup(request_result):\n",
    "    if request_result.status_code == 200:\n",
    "        html_doc =  request_result.text\n",
    "        soup = BeautifulSoup(html_doc,\"html.parser\")\n",
    "        return soup\n",
    "\n",
    "def _get_soup(page_url):\n",
    "    res = requests.get(page_url)\n",
    "    soup = _handle_request_result_and_build_soup(res)\n",
    "    return soup\n",
    "\n",
    "def _convert_price_to_float(string):\n",
    "    return float(string.replace(',','.').replace('€','.'))\n",
    "\n",
    "def _convert_price_discount_to_float(string):\n",
    "    return float(string.replace(',','.')[:-1])\n",
    "\n",
    "def get_discount(soup, brand):\n",
    "    \n",
    "    prices = list(map(lambda x : _convert_price_to_float(x.text), soup.find_all(class_= \"price\")))\n",
    "    price_discounts = list(map(lambda x : _convert_price_discount_to_float(x.text), soup.find_all(class_ = \"prdtPrBILSt\")))\n",
    "\n",
    "    \n",
    "    print(\"[\" + brand + \"] number of computer discount rate : \" + str(round(len(price_discounts) * 100 / len(prices))) + \"%\")\n",
    "    return\n",
    "\n",
    "\n",
    "\n",
    "soupAcer = _get_soup(page_acer_url)\n",
    "get_discount(soupAcer, \"Acer\")\n",
    "\n",
    "soupDell = _get_soup(page_dell_url)\n",
    "get_discount(soupDell, \"Dell\")"
   ]
  }
 ],
 "metadata": {
  "kernelspec": {
   "display_name": "Python 3",
   "language": "python",
   "name": "python3"
  },
  "language_info": {
   "codemirror_mode": {
    "name": "ipython",
    "version": 3
   },
   "file_extension": ".py",
   "mimetype": "text/x-python",
   "name": "python",
   "nbconvert_exporter": "python",
   "pygments_lexer": "ipython3",
   "version": "3.6.4"
  }
 },
 "nbformat": 4,
 "nbformat_minor": 2
}
